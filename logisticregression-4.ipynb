{
 "cells": [
  {
   "cell_type": "code",
   "execution_count": 1,
   "metadata": {
    "_cell_guid": "b1076dfc-b9ad-4769-8c92-a6c4dae69d19",
    "_uuid": "8f2839f25d086af736a60e9eeb907d3b93b6e0e5",
    "execution": {
     "iopub.execute_input": "2021-03-04T14:16:33.739627Z",
     "iopub.status.busy": "2021-03-04T14:16:33.738947Z",
     "iopub.status.idle": "2021-03-04T14:16:33.744955Z",
     "shell.execute_reply": "2021-03-04T14:16:33.745470Z"
    },
    "papermill": {
     "duration": 0.024547,
     "end_time": "2021-03-04T14:16:33.745826",
     "exception": false,
     "start_time": "2021-03-04T14:16:33.721279",
     "status": "completed"
    },
    "tags": []
   },
   "outputs": [
    {
     "name": "stdout",
     "output_type": "stream",
     "text": [
      "/kaggle/input/titanic/train.csv\n",
      "/kaggle/input/titanic/test.csv\n",
      "/kaggle/input/titanic/gender_submission.csv\n"
     ]
    }
   ],
   "source": [
    "# This Python 3 environment comes with many helpful analytics libraries installed\n",
    "# It is defined by the kaggle/python Docker image: https://github.com/kaggle/docker-python\n",
    "# For example, here's several helpful packages to load\n",
    "\n",
    "import numpy as np # linear algebra\n",
    "import pandas as pd # data processing, CSV file I/O (e.g. pd.read_csv)\n",
    "\n",
    "# Input data files are available in the read-only \"../input/\" directory\n",
    "# For example, running this (by clicking run or pressing Shift+Enter) will list all files under the input directory\n",
    "\n",
    "import os\n",
    "for dirname, _, filenames in os.walk('/kaggle/input'):\n",
    "    for filename in filenames:\n",
    "        print(os.path.join(dirname, filename))\n",
    "\n",
    "# You can write up to 20GB to the current directory (/kaggle/working/) that gets preserved as output when you create a version using \"Save & Run All\" \n",
    "# You can also write temporary files to /kaggle/temp/, but they won't be saved outside of the current session"
   ]
  },
  {
   "cell_type": "code",
   "execution_count": 2,
   "metadata": {
    "execution": {
     "iopub.execute_input": "2021-03-04T14:16:33.772477Z",
     "iopub.status.busy": "2021-03-04T14:16:33.771748Z",
     "iopub.status.idle": "2021-03-04T14:16:33.826933Z",
     "shell.execute_reply": "2021-03-04T14:16:33.825745Z"
    },
    "papermill": {
     "duration": 0.070339,
     "end_time": "2021-03-04T14:16:33.827100",
     "exception": false,
     "start_time": "2021-03-04T14:16:33.756761",
     "status": "completed"
    },
    "tags": []
   },
   "outputs": [
    {
     "name": "stdout",
     "output_type": "stream",
     "text": [
      "   PassengerId  Survived  Pclass  \\\n",
      "0            1         0       3   \n",
      "1            2         1       1   \n",
      "2            3         1       3   \n",
      "3            4         1       1   \n",
      "4            5         0       3   \n",
      "\n",
      "                                                Name     Sex   Age  SibSp  \\\n",
      "0                            Braund, Mr. Owen Harris    male  22.0      1   \n",
      "1  Cumings, Mrs. John Bradley (Florence Briggs Th...  female  38.0      1   \n",
      "2                             Heikkinen, Miss. Laina  female  26.0      0   \n",
      "3       Futrelle, Mrs. Jacques Heath (Lily May Peel)  female  35.0      1   \n",
      "4                           Allen, Mr. William Henry    male  35.0      0   \n",
      "\n",
      "   Parch            Ticket     Fare Cabin Embarked  \n",
      "0      0         A/5 21171   7.2500   NaN        S  \n",
      "1      0          PC 17599  71.2833   C85        C  \n",
      "2      0  STON/O2. 3101282   7.9250   NaN        S  \n",
      "3      0            113803  53.1000  C123        S  \n",
      "4      0            373450   8.0500   NaN        S  \n",
      "   PassengerId  Pclass                                          Name     Sex  \\\n",
      "0          892       3                              Kelly, Mr. James    male   \n",
      "1          893       3              Wilkes, Mrs. James (Ellen Needs)  female   \n",
      "2          894       2                     Myles, Mr. Thomas Francis    male   \n",
      "3          895       3                              Wirz, Mr. Albert    male   \n",
      "4          896       3  Hirvonen, Mrs. Alexander (Helga E Lindqvist)  female   \n",
      "\n",
      "    Age  SibSp  Parch   Ticket     Fare Cabin Embarked  \n",
      "0  34.5      0      0   330911   7.8292   NaN        Q  \n",
      "1  47.0      1      0   363272   7.0000   NaN        S  \n",
      "2  62.0      0      0   240276   9.6875   NaN        Q  \n",
      "3  27.0      0      0   315154   8.6625   NaN        S  \n",
      "4  22.0      1      1  3101298  12.2875   NaN        S  \n"
     ]
    }
   ],
   "source": [
    "train_data=pd.read_csv('/kaggle/input/titanic/train.csv')\n",
    "test_data=pd.read_csv('/kaggle/input/titanic/test.csv')\n",
    "print(train_data.head(5))\n",
    "print(test_data.head(5))"
   ]
  },
  {
   "cell_type": "code",
   "execution_count": 3,
   "metadata": {
    "execution": {
     "iopub.execute_input": "2021-03-04T14:16:33.869047Z",
     "iopub.status.busy": "2021-03-04T14:16:33.868057Z",
     "iopub.status.idle": "2021-03-04T14:16:33.871491Z",
     "shell.execute_reply": "2021-03-04T14:16:33.871989Z"
    },
    "papermill": {
     "duration": 0.034244,
     "end_time": "2021-03-04T14:16:33.872153",
     "exception": false,
     "start_time": "2021-03-04T14:16:33.837909",
     "status": "completed"
    },
    "tags": []
   },
   "outputs": [
    {
     "name": "stdout",
     "output_type": "stream",
     "text": [
      "   Survived  Pclass     Sex   Age  SibSp  Parch     Fare Cabin Embarked\n",
      "0         0       3    male  22.0      1      0   7.2500   NaN        S\n",
      "1         1       1  female  38.0      1      0  71.2833     C        C\n",
      "2         1       3  female  26.0      0      0   7.9250   NaN        S\n",
      "3         1       1  female  35.0      1      0  53.1000     C        S\n",
      "4         0       3    male  35.0      0      0   8.0500   NaN        S\n",
      "   Pclass     Sex   Age  SibSp  Parch     Fare Cabin Embarked\n",
      "0       3    male  34.5      0      0   7.8292   NaN        Q\n",
      "1       3  female  47.0      1      0   7.0000   NaN        S\n",
      "2       2    male  62.0      0      0   9.6875   NaN        Q\n",
      "3       3    male  27.0      0      0   8.6625   NaN        S\n",
      "4       3  female  22.0      1      1  12.2875   NaN        S\n"
     ]
    }
   ],
   "source": [
    "#일단 불필요한 데이터 제거 : Remove useless data\n",
    "#PassengerId는 별도로 저장해야 함. : pID to save result\n",
    "pID = test_data['PassengerId']\n",
    "\n",
    "#Name, PassengerId, Ticket이 필요가 없음.\n",
    "#Name, PassengerId, Ticket are useless \n",
    "train_data.drop(['Name', 'PassengerId', 'Ticket'], axis = 1, inplace = True)\n",
    "test_data.drop(['Name', 'PassengerId', 'Ticket'], axis = 1, inplace = True)\n",
    "\n",
    "\n",
    "#Cabin도 맨 앞의 것만 남기고 제거\n",
    "#We don't need Cabin either except the first word\n",
    "train_data['Cabin'] = train_data['Cabin'].str[:1]\n",
    "test_data['Cabin'] = test_data['Cabin'].str[:1]\n",
    "\n",
    "print(train_data.head(5))\n",
    "print(test_data.head(5))"
   ]
  },
  {
   "cell_type": "code",
   "execution_count": 4,
   "metadata": {
    "execution": {
     "iopub.execute_input": "2021-03-04T14:16:33.904297Z",
     "iopub.status.busy": "2021-03-04T14:16:33.902342Z",
     "iopub.status.idle": "2021-03-04T14:16:33.909192Z",
     "shell.execute_reply": "2021-03-04T14:16:33.908659Z"
    },
    "papermill": {
     "duration": 0.025971,
     "end_time": "2021-03-04T14:16:33.909345",
     "exception": false,
     "start_time": "2021-03-04T14:16:33.883374",
     "status": "completed"
    },
    "tags": []
   },
   "outputs": [
    {
     "name": "stdout",
     "output_type": "stream",
     "text": [
      "Survived      0\n",
      "Pclass        0\n",
      "Sex           0\n",
      "Age         177\n",
      "SibSp         0\n",
      "Parch         0\n",
      "Fare          0\n",
      "Cabin       687\n",
      "Embarked      2\n",
      "dtype: int64\n",
      "------------\n",
      "Pclass        0\n",
      "Sex           0\n",
      "Age          86\n",
      "SibSp         0\n",
      "Parch         0\n",
      "Fare          1\n",
      "Cabin       327\n",
      "Embarked      0\n",
      "dtype: int64\n"
     ]
    }
   ],
   "source": [
    "#NaN 확인\n",
    "#Check NaN\n",
    "\n",
    "print(train_data.isnull().sum())\n",
    "print('------------')\n",
    "print(test_data.isnull().sum())"
   ]
  },
  {
   "cell_type": "code",
   "execution_count": 5,
   "metadata": {
    "execution": {
     "iopub.execute_input": "2021-03-04T14:16:33.950581Z",
     "iopub.status.busy": "2021-03-04T14:16:33.939497Z",
     "iopub.status.idle": "2021-03-04T14:16:33.954759Z",
     "shell.execute_reply": "2021-03-04T14:16:33.954148Z"
    },
    "papermill": {
     "duration": 0.033862,
     "end_time": "2021-03-04T14:16:33.954935",
     "exception": false,
     "start_time": "2021-03-04T14:16:33.921073",
     "status": "completed"
    },
    "tags": []
   },
   "outputs": [
    {
     "name": "stdout",
     "output_type": "stream",
     "text": [
      "   Survived  Pclass     Sex   Age  SibSp  Parch     Fare Cabin Embarked\n",
      "0         0       3    male  22.0      1      0   7.2500     N        S\n",
      "1         1       1  female  38.0      1      0  71.2833     C        C\n",
      "2         1       3  female  26.0      0      0   7.9250     N        S\n",
      "3         1       1  female  35.0      1      0  53.1000     C        S\n",
      "4         0       3    male  35.0      0      0   8.0500     N        S\n",
      "   Pclass     Sex   Age  SibSp  Parch     Fare Cabin Embarked\n",
      "0       3    male  34.5      0      0   7.8292     N        Q\n",
      "1       3  female  47.0      1      0   7.0000     N        S\n",
      "2       2    male  62.0      0      0   9.6875     N        Q\n",
      "3       3    male  27.0      0      0   8.6625     N        S\n",
      "4       3  female  22.0      1      1  12.2875     N        S\n"
     ]
    }
   ],
   "source": [
    "#age, cabin, Embarked, Fare의 NaN 제거\n",
    "#remove NaN\n",
    "train_data['Age'].fillna(train_data['Age'].mean(), inplace = True)\n",
    "train_data['Cabin'].fillna('N', inplace = True)\n",
    "train_data['Embarked'].fillna('N', inplace = True)\n",
    "\n",
    "test_data['Age'].fillna(test_data['Age'].mean(), inplace = True)\n",
    "test_data['Cabin'].fillna('N', inplace = True)\n",
    "test_data['Fare'].fillna(0, inplace = True)\n",
    "\n",
    "#확인\n",
    "#Check\n",
    "print(train_data.head(5))\n",
    "print(test_data.head(5))"
   ]
  },
  {
   "cell_type": "code",
   "execution_count": 6,
   "metadata": {
    "execution": {
     "iopub.execute_input": "2021-03-04T14:16:33.985723Z",
     "iopub.status.busy": "2021-03-04T14:16:33.985063Z",
     "iopub.status.idle": "2021-03-04T14:16:34.959421Z",
     "shell.execute_reply": "2021-03-04T14:16:34.958701Z"
    },
    "papermill": {
     "duration": 0.992606,
     "end_time": "2021-03-04T14:16:34.959569",
     "exception": false,
     "start_time": "2021-03-04T14:16:33.966963",
     "status": "completed"
    },
    "tags": []
   },
   "outputs": [
    {
     "name": "stdout",
     "output_type": "stream",
     "text": [
      "   Survived  Pclass  Sex   Age  SibSp  Parch     Fare  Cabin  Embarked\n",
      "0         0       3    1  22.0      1      0   7.2500      7         3\n",
      "1         1       1    0  38.0      1      0  71.2833      2         0\n",
      "2         1       3    0  26.0      0      0   7.9250      7         3\n",
      "3         1       1    0  35.0      1      0  53.1000      2         3\n",
      "4         0       3    1  35.0      0      0   8.0500      7         3\n",
      "   Pclass  Sex   Age  SibSp  Parch     Fare  Cabin  Embarked\n",
      "0       3    1  34.5      0      0   7.8292      7         2\n",
      "1       3    0  47.0      1      0   7.0000      7         3\n",
      "2       2    1  62.0      0      0   9.6875      7         2\n",
      "3       3    1  27.0      0      0   8.6625      7         3\n",
      "4       3    0  22.0      1      1  12.2875      7         3\n"
     ]
    }
   ],
   "source": [
    "#문자형 데이터도 숫자형으로 변환\n",
    "#Sex, Cabin, Embarked가 문자형.\n",
    "#Convert textual data to numeric data\n",
    "from sklearn import preprocessing\n",
    "\n",
    "features = ['Sex', 'Cabin', 'Embarked']\n",
    "for f in features :\n",
    "    le = preprocessing.LabelEncoder()\n",
    "    concat_series = test_data[f]\n",
    "    concat_series = concat_series.append(train_data[f])\n",
    "    le = le.fit(concat_series)\n",
    "    train_data[f] = le.transform(train_data[f])\n",
    "    test_data[f] = le.transform(test_data[f])\n",
    "\n",
    "#확인\n",
    "print(train_data.head(5))\n",
    "print(test_data.head(5))"
   ]
  },
  {
   "cell_type": "code",
   "execution_count": 7,
   "metadata": {
    "execution": {
     "iopub.execute_input": "2021-03-04T14:16:35.005062Z",
     "iopub.status.busy": "2021-03-04T14:16:35.004148Z",
     "iopub.status.idle": "2021-03-04T14:16:35.008394Z",
     "shell.execute_reply": "2021-03-04T14:16:35.007743Z"
    },
    "papermill": {
     "duration": 0.036461,
     "end_time": "2021-03-04T14:16:35.008534",
     "exception": false,
     "start_time": "2021-03-04T14:16:34.972073",
     "status": "completed"
    },
    "tags": []
   },
   "outputs": [
    {
     "name": "stdout",
     "output_type": "stream",
     "text": [
      "   Survived  Pclass  Sex  Age  SibSp  Parch  Fare  Cabin  Embarked\n",
      "0         0       3    1    3      1      0     0      7         3\n",
      "1         1       1    0    4      1      0     7      2         0\n",
      "2         1       3    0    3      0      0     0      7         3\n",
      "3         1       1    0    4      1      0     5      2         3\n",
      "4         0       3    1    4      0      0     0      7         3\n",
      "   Pclass  Sex  Age  SibSp  Parch  Fare  Cabin  Embarked\n",
      "0       3    1    4      0      0     0      7         2\n",
      "1       3    0    5      1      0     0      7         3\n",
      "2       2    1    7      0      0     0      7         2\n",
      "3       3    1    3      0      0     0      7         3\n",
      "4       3    0    3      1      1     1      7         3\n"
     ]
    }
   ],
   "source": [
    "#나이랑 요금 범주로 변경\n",
    "#Convert numeric data to categorical data => age, fare\n",
    "def age_convert(age) :\n",
    "    if age <= -1 : return 0\n",
    "    return int(age/10+1) #0~9살부터 1\n",
    "\n",
    "def fare_convert(fare) :\n",
    "    return int(fare/10)\n",
    "\n",
    "train_data['Age'] = train_data['Age'].apply(lambda x : age_convert(x))\n",
    "train_data['Fare'] = train_data['Fare'].apply(lambda x : fare_convert(x))\n",
    "test_data['Age'] = test_data['Age'].apply(lambda x : age_convert(x))\n",
    "test_data['Fare'] = test_data['Fare'].apply(lambda x : fare_convert(x))\n",
    "\n",
    "#확인\n",
    "print(train_data.head(5))\n",
    "print(test_data.head(5))"
   ]
  },
  {
   "cell_type": "code",
   "execution_count": 8,
   "metadata": {
    "execution": {
     "iopub.execute_input": "2021-03-04T14:16:35.041485Z",
     "iopub.status.busy": "2021-03-04T14:16:35.040052Z",
     "iopub.status.idle": "2021-03-04T14:16:35.044521Z",
     "shell.execute_reply": "2021-03-04T14:16:35.044042Z"
    },
    "papermill": {
     "duration": 0.022657,
     "end_time": "2021-03-04T14:16:35.044662",
     "exception": false,
     "start_time": "2021-03-04T14:16:35.022005",
     "status": "completed"
    },
    "tags": []
   },
   "outputs": [],
   "source": [
    "#테스트, 데이터 셋 구분\n",
    "#Training data\n",
    "train_x = train_data.drop('Survived', axis = 1)\n",
    "train_y = train_data['Survived']"
   ]
  },
  {
   "cell_type": "code",
   "execution_count": 9,
   "metadata": {
    "execution": {
     "iopub.execute_input": "2021-03-04T14:16:35.079317Z",
     "iopub.status.busy": "2021-03-04T14:16:35.078488Z",
     "iopub.status.idle": "2021-03-04T14:17:25.659366Z",
     "shell.execute_reply": "2021-03-04T14:17:25.660114Z"
    },
    "papermill": {
     "duration": 50.601267,
     "end_time": "2021-03-04T14:17:25.660356",
     "exception": false,
     "start_time": "2021-03-04T14:16:35.059089",
     "status": "completed"
    },
    "tags": []
   },
   "outputs": [
    {
     "name": "stdout",
     "output_type": "stream",
     "text": [
      "Fitting 5 folds for each of 9 candidates, totalling 45 fits\n",
      "0.9158249158249159\n"
     ]
    }
   ],
   "source": [
    "#랜덤 포레스트 -76.07%\n",
    "#Random Forest - 76.07 accuracy\n",
    "from sklearn.ensemble import RandomForestClassifier\n",
    "from sklearn.metrics import accuracy_score\n",
    "from sklearn.model_selection import GridSearchCV\n",
    "\n",
    "rf = RandomForestClassifier(random_state = 1)\n",
    "model = GridSearchCV(rf, param_grid = {'n_estimators' : range(100, 1000, 100)}, verbose = True)\n",
    "model.fit(train_x, train_y)\n",
    "\n",
    "model = model.best_estimator_\n",
    "pred = model.predict(train_x)\n",
    "print(accuracy_score(train_y, pred))"
   ]
  },
  {
   "cell_type": "code",
   "execution_count": 10,
   "metadata": {
    "execution": {
     "iopub.execute_input": "2021-03-04T14:17:25.699062Z",
     "iopub.status.busy": "2021-03-04T14:17:25.698330Z",
     "iopub.status.idle": "2021-03-04T14:17:25.808587Z",
     "shell.execute_reply": "2021-03-04T14:17:25.808024Z"
    },
    "papermill": {
     "duration": 0.13306,
     "end_time": "2021-03-04T14:17:25.808730",
     "exception": false,
     "start_time": "2021-03-04T14:17:25.675670",
     "status": "completed"
    },
    "tags": []
   },
   "outputs": [
    {
     "name": "stdout",
     "output_type": "stream",
     "text": [
      "   PassengerId  Survived\n",
      "0          892         0\n",
      "1          893         0\n",
      "2          894         0\n",
      "     PassengerId  Survived\n",
      "415         1307         0\n",
      "416         1308         0\n",
      "417         1309         0\n"
     ]
    }
   ],
   "source": [
    "#모델 저장\n",
    "#save model\n",
    "#PassengetId, Survived\n",
    "\n",
    "pred = model.predict(test_data)\n",
    "pred = pd.Series(pred, name = 'Survived')\n",
    "save_data = pd.concat([pID, pred], axis = 1)\n",
    "\n",
    "print(save_data.head(3))\n",
    "print(save_data.tail(3))\n",
    "\n",
    "save_data.to_csv('result_rf_with_fare.csv', index = False)"
   ]
  },
  {
   "cell_type": "code",
   "execution_count": 11,
   "metadata": {
    "execution": {
     "iopub.execute_input": "2021-03-04T14:17:25.843043Z",
     "iopub.status.busy": "2021-03-04T14:17:25.842058Z",
     "iopub.status.idle": "2021-03-04T14:17:26.824066Z",
     "shell.execute_reply": "2021-03-04T14:17:26.823285Z"
    },
    "papermill": {
     "duration": 0.999501,
     "end_time": "2021-03-04T14:17:26.824290",
     "exception": false,
     "start_time": "2021-03-04T14:17:25.824789",
     "status": "completed"
    },
    "tags": []
   },
   "outputs": [
    {
     "name": "stdout",
     "output_type": "stream",
     "text": [
      "LogisticRegression(C=0.2, random_state=1)\n",
      "0.7934904601571269\n"
     ]
    }
   ],
   "source": [
    "#로지스틱 회귀 77.03%\n",
    "#Logistic Regression 77.03%\n",
    "from sklearn.linear_model import LogisticRegression\n",
    "import warnings\n",
    "warnings.filterwarnings('ignore')\n",
    "\n",
    "lr = LogisticRegression(random_state = 1)\n",
    "params = {'C' : [0.001, 0.005, 0.01, 0.05, 0.1, 0.2, 0.5, 1, 5, 10], 'penalty' : ['l1', 'l2']}\n",
    "\n",
    "model = GridSearchCV(lr, params, cv = 5)\n",
    "model.fit(train_x, train_y)\n",
    "print(model.best_estimator_)\n",
    "\n",
    "model = model.best_estimator_\n",
    "pred = model.predict(train_x)\n",
    "print(accuracy_score(train_y, pred))"
   ]
  },
  {
   "cell_type": "code",
   "execution_count": 12,
   "metadata": {
    "execution": {
     "iopub.execute_input": "2021-03-04T14:17:26.860046Z",
     "iopub.status.busy": "2021-03-04T14:17:26.859329Z",
     "iopub.status.idle": "2021-03-04T14:17:26.873688Z",
     "shell.execute_reply": "2021-03-04T14:17:26.874231Z"
    },
    "papermill": {
     "duration": 0.032511,
     "end_time": "2021-03-04T14:17:26.874414",
     "exception": false,
     "start_time": "2021-03-04T14:17:26.841903",
     "status": "completed"
    },
    "tags": []
   },
   "outputs": [
    {
     "name": "stdout",
     "output_type": "stream",
     "text": [
      "   PassengerId  Survived\n",
      "0          892         0\n",
      "1          893         0\n",
      "2          894         0\n",
      "     PassengerId  Survived\n",
      "415         1307         0\n",
      "416         1308         0\n",
      "417         1309         0\n"
     ]
    }
   ],
   "source": [
    "#모델 저장\n",
    "#save model\n",
    "#PassengetId, Survived\n",
    "\n",
    "pred = model.predict(test_data)\n",
    "pred = pd.Series(pred, name = 'Survived')\n",
    "save_data = pd.concat([pID, pred], axis = 1)\n",
    "\n",
    "print(save_data.head(3))\n",
    "print(save_data.tail(3))\n",
    "\n",
    "save_data.to_csv('result_lr_with_fare.csv', index = False)"
   ]
  },
  {
   "cell_type": "code",
   "execution_count": 13,
   "metadata": {
    "execution": {
     "iopub.execute_input": "2021-03-04T14:17:26.918136Z",
     "iopub.status.busy": "2021-03-04T14:17:26.917165Z",
     "iopub.status.idle": "2021-03-04T14:17:26.921388Z",
     "shell.execute_reply": "2021-03-04T14:17:26.920768Z"
    },
    "papermill": {
     "duration": 0.031897,
     "end_time": "2021-03-04T14:17:26.921525",
     "exception": false,
     "start_time": "2021-03-04T14:17:26.889628",
     "status": "completed"
    },
    "tags": []
   },
   "outputs": [
    {
     "name": "stdout",
     "output_type": "stream",
     "text": [
      "   Survived  Pclass  Sex  Age  SibSp  Parch  Cabin  Embarked\n",
      "0         0       3    1    3      1      0      7         3\n",
      "1         1       1    0    4      1      0      2         0\n",
      "2         1       3    0    3      0      0      7         3\n",
      "3         1       1    0    4      1      0      2         3\n",
      "4         0       3    1    4      0      0      7         3\n",
      "   Pclass  Sex  Age  SibSp  Parch  Cabin  Embarked\n",
      "0       3    1    4      0      0      7         2\n",
      "1       3    0    5      1      0      7         3\n",
      "2       2    1    7      0      0      7         2\n",
      "3       3    1    3      0      0      7         3\n",
      "4       3    0    3      1      1      7         3\n"
     ]
    }
   ],
   "source": [
    "#fare가 굳이 필요할까?\n",
    "#Do we really need 'fare'?\n",
    "\n",
    "train_data.drop('Fare', axis = 1, inplace=True)\n",
    "test_data.drop('Fare', axis = 1, inplace = True)\n",
    "\n",
    "#확인\n",
    "print(train_data.head(5))\n",
    "print(test_data.head(5))"
   ]
  },
  {
   "cell_type": "code",
   "execution_count": 14,
   "metadata": {
    "execution": {
     "iopub.execute_input": "2021-03-04T14:17:26.967983Z",
     "iopub.status.busy": "2021-03-04T14:17:26.966900Z",
     "iopub.status.idle": "2021-03-04T14:18:18.009408Z",
     "shell.execute_reply": "2021-03-04T14:18:18.008745Z"
    },
    "papermill": {
     "duration": 51.072443,
     "end_time": "2021-03-04T14:18:18.009560",
     "exception": false,
     "start_time": "2021-03-04T14:17:26.937117",
     "status": "completed"
    },
    "tags": []
   },
   "outputs": [
    {
     "name": "stdout",
     "output_type": "stream",
     "text": [
      "Fitting 5 folds for each of 9 candidates, totalling 45 fits\n",
      "0.8978675645342312\n",
      "0.7957351290684624\n"
     ]
    }
   ],
   "source": [
    "#테스트, 데이터 셋 구분\n",
    "train_x = train_data.drop('Survived', axis = 1)\n",
    "train_y = train_data['Survived']\n",
    "\n",
    "#랜덤 포레스트 -75.35%\n",
    "#Random Forest - 75.35 accuracy\n",
    "from sklearn.ensemble import RandomForestClassifier\n",
    "from sklearn.metrics import accuracy_score\n",
    "from sklearn.model_selection import GridSearchCV\n",
    "\n",
    "rf = RandomForestClassifier(random_state = 1)\n",
    "model = GridSearchCV(rf, param_grid = {'n_estimators' : range(100, 1000, 100)}, verbose = True)\n",
    "model.fit(train_x, train_y)\n",
    "\n",
    "model = model.best_estimator_\n",
    "pred = model.predict(train_x)\n",
    "print(accuracy_score(train_y, pred))\n",
    "\n",
    "pred = model.predict(test_data)\n",
    "pred = pd.Series(pred, name = 'Survived')\n",
    "save_data = pd.concat([pID, pred], axis = 1)\n",
    "save_data.to_csv('result_rf_without_fare.csv', index = False)\n",
    "\n",
    "\n",
    "\n",
    "#로지스틱 회귀 77.27%\n",
    "#Logistic Regression 77.27%\n",
    "from sklearn.linear_model import LogisticRegression\n",
    "import warnings\n",
    "warnings.filterwarnings('ignore')\n",
    "\n",
    "lr = LogisticRegression(random_state = 1)\n",
    "params = {'C' : [0.001, 0.005, 0.01, 0.05, 0.1, 0.2, 0.5, 1, 5, 10], 'penalty' : ['l1', 'l2']}\n",
    "\n",
    "model = GridSearchCV(lr, params, cv = 5)\n",
    "model.fit(train_x, train_y)\n",
    "\n",
    "model = model.best_estimator_\n",
    "pred = model.predict(train_x)\n",
    "print(accuracy_score(train_y, pred))\n",
    "\n",
    "pred = model.predict(test_data)\n",
    "pred = pd.Series(pred, name = 'Survived')\n",
    "save_data = pd.concat([pID, pred], axis = 1)\n",
    "save_data.to_csv('result_lr_without_fare.csv', index = False, header = 1)"
   ]
  }
 ],
 "metadata": {
  "kernelspec": {
   "display_name": "Python 3",
   "language": "python",
   "name": "python3"
  },
  "language_info": {
   "codemirror_mode": {
    "name": "ipython",
    "version": 3
   },
   "file_extension": ".py",
   "mimetype": "text/x-python",
   "name": "python",
   "nbconvert_exporter": "python",
   "pygments_lexer": "ipython3",
   "version": "3.7.9"
  },
  "papermill": {
   "default_parameters": {},
   "duration": 110.770612,
   "end_time": "2021-03-04T14:18:18.738179",
   "environment_variables": {},
   "exception": null,
   "input_path": "__notebook__.ipynb",
   "output_path": "__notebook__.ipynb",
   "parameters": {},
   "start_time": "2021-03-04T14:16:27.967567",
   "version": "2.2.2"
  }
 },
 "nbformat": 4,
 "nbformat_minor": 4
}
